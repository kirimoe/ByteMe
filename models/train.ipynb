{
  "cells": [
    {
      "cell_type": "code",
      "execution_count": 2,
      "metadata": {
        "id": "jqhz0bYINsfQ"
      },
      "outputs": [],
      "source": [
        "import pandas as pd\n",
        "import matplotlib.pyplot as plt\n",
        "\n",
        "from sklearn.model_selection import train_test_split, cross_val_score, StratifiedKFold\n",
        "from sklearn.ensemble import RandomForestClassifier, GradientBoostingClassifier, HistGradientBoostingClassifier\n",
        "from sklearn.metrics import accuracy_score, confusion_matrix\n",
        "from sklearn.tree import DecisionTreeClassifier"
      ]
    },
    {
      "cell_type": "markdown",
      "metadata": {},
      "source": [
        "# Dataset 1"
      ]
    },
    {
      "cell_type": "code",
      "execution_count": 3,
      "metadata": {
        "colab": {
          "base_uri": "https://localhost:8080/",
          "height": 400
        },
        "id": "0afH0MHoQBMd",
        "outputId": "1aa629d9-da3b-4d6d-a962-e2f98f85d6c2"
      },
      "outputs": [],
      "source": [
        "header_df = pd.read_csv('/root/ByteMe/datasets/1/PE_Header.csv')\n",
        "section_df = pd.read_csv('/root/ByteMe/datasets/1/PE_Section.csv')\n",
        "\n",
        "ds1 = pd.merge(header_df, section_df, on=[\"SHA256\", \"Type\"], how=\"inner\")\n",
        "ds1['Type'] = ds1['Type'].apply(lambda x: 0 if x == 0 else 1)"
      ]
    },
    {
      "cell_type": "code",
      "execution_count": 14,
      "metadata": {
        "id": "6W2jaTqjQCAs"
      },
      "outputs": [],
      "source": [
        "# Distribution\n"
      ]
    },
    {
      "cell_type": "markdown",
      "metadata": {},
      "source": [
        "# Dataset 2"
      ]
    },
    {
      "cell_type": "code",
      "execution_count": 4,
      "metadata": {},
      "outputs": [],
      "source": [
        "header_df = pd.read_csv('/root/ByteMe/datasets/PE_Header2.csv')\n",
        "section_df = pd.read_csv('/root/ByteMe/datasets/PE_Section2.csv')\n",
        "\n",
        "ds2 = pd.merge(header_df, section_df, on=[\"SHA256\", \"Type\"], how=\"inner\")\n",
        "ds2['Type'] = ds2['Type'].apply(lambda x: 0 if x == 0 else 1)"
      ]
    },
    {
      "cell_type": "code",
      "execution_count": 15,
      "metadata": {},
      "outputs": [],
      "source": [
        "# Distribution\n"
      ]
    },
    {
      "cell_type": "markdown",
      "metadata": {},
      "source": [
        "# Dataset 3: Dataset 1 + Dataset 2"
      ]
    },
    {
      "cell_type": "code",
      "execution_count": 5,
      "metadata": {},
      "outputs": [],
      "source": [
        "ds3 = pd.concat([ds1, ds2])\n",
        "ds3 = ds3.drop_duplicates(subset='SHA256')\n",
        "ds3 = ds3.reset_index(drop=True)"
      ]
    },
    {
      "cell_type": "code",
      "execution_count": 6,
      "metadata": {},
      "outputs": [
        {
          "data": {
            "text/html": [
              "<div>\n",
              "<style scoped>\n",
              "    .dataframe tbody tr th:only-of-type {\n",
              "        vertical-align: middle;\n",
              "    }\n",
              "\n",
              "    .dataframe tbody tr th {\n",
              "        vertical-align: top;\n",
              "    }\n",
              "\n",
              "    .dataframe thead th {\n",
              "        text-align: right;\n",
              "    }\n",
              "</style>\n",
              "<table border=\"1\" class=\"dataframe\">\n",
              "  <thead>\n",
              "    <tr style=\"text-align: right;\">\n",
              "      <th></th>\n",
              "      <th>SHA256</th>\n",
              "      <th>Type</th>\n",
              "      <th>e_magic</th>\n",
              "      <th>e_cblp</th>\n",
              "      <th>e_cp</th>\n",
              "      <th>e_crlc</th>\n",
              "      <th>e_cparhdr</th>\n",
              "      <th>e_minalloc</th>\n",
              "      <th>e_maxalloc</th>\n",
              "      <th>e_ss</th>\n",
              "      <th>...</th>\n",
              "      <th>tls_Characteristics</th>\n",
              "      <th>pdata_Misc_VirtualSize</th>\n",
              "      <th>pdata_VirtualAddress</th>\n",
              "      <th>pdata_SizeOfRawData</th>\n",
              "      <th>pdata_PointerToRawData</th>\n",
              "      <th>pdata_PointerToRelocations</th>\n",
              "      <th>pdata_PointerToLinenumbers</th>\n",
              "      <th>pdata_NumberOfRelocations</th>\n",
              "      <th>pdata_NumberOfLinenumbers</th>\n",
              "      <th>pdata_Characteristics</th>\n",
              "    </tr>\n",
              "  </thead>\n",
              "  <tbody>\n",
              "    <tr>\n",
              "      <th>0</th>\n",
              "      <td>dacbe8cb72dd746539792a50e84965fefef73feaa07b5d...</td>\n",
              "      <td>0</td>\n",
              "      <td>23117</td>\n",
              "      <td>144</td>\n",
              "      <td>3</td>\n",
              "      <td>0</td>\n",
              "      <td>4</td>\n",
              "      <td>0</td>\n",
              "      <td>65535</td>\n",
              "      <td>0</td>\n",
              "      <td>...</td>\n",
              "      <td>0</td>\n",
              "      <td>0</td>\n",
              "      <td>0</td>\n",
              "      <td>0</td>\n",
              "      <td>0</td>\n",
              "      <td>0</td>\n",
              "      <td>0</td>\n",
              "      <td>0</td>\n",
              "      <td>0</td>\n",
              "      <td>0</td>\n",
              "    </tr>\n",
              "    <tr>\n",
              "      <th>1</th>\n",
              "      <td>d3dc7512ce75db33b2c3063fa99245e9ca9fe3b086462f...</td>\n",
              "      <td>0</td>\n",
              "      <td>23117</td>\n",
              "      <td>144</td>\n",
              "      <td>3</td>\n",
              "      <td>0</td>\n",
              "      <td>4</td>\n",
              "      <td>0</td>\n",
              "      <td>65535</td>\n",
              "      <td>0</td>\n",
              "      <td>...</td>\n",
              "      <td>0</td>\n",
              "      <td>0</td>\n",
              "      <td>0</td>\n",
              "      <td>0</td>\n",
              "      <td>0</td>\n",
              "      <td>0</td>\n",
              "      <td>0</td>\n",
              "      <td>0</td>\n",
              "      <td>0</td>\n",
              "      <td>0</td>\n",
              "    </tr>\n",
              "    <tr>\n",
              "      <th>2</th>\n",
              "      <td>b350fac81533f02981dc2176ed17163177d92d9405758e...</td>\n",
              "      <td>0</td>\n",
              "      <td>23117</td>\n",
              "      <td>144</td>\n",
              "      <td>3</td>\n",
              "      <td>0</td>\n",
              "      <td>4</td>\n",
              "      <td>0</td>\n",
              "      <td>65535</td>\n",
              "      <td>0</td>\n",
              "      <td>...</td>\n",
              "      <td>0</td>\n",
              "      <td>0</td>\n",
              "      <td>0</td>\n",
              "      <td>0</td>\n",
              "      <td>0</td>\n",
              "      <td>0</td>\n",
              "      <td>0</td>\n",
              "      <td>0</td>\n",
              "      <td>0</td>\n",
              "      <td>0</td>\n",
              "    </tr>\n",
              "    <tr>\n",
              "      <th>3</th>\n",
              "      <td>dfee618043a47b7b09305df0ca460559d9f567ee246c7b...</td>\n",
              "      <td>0</td>\n",
              "      <td>23117</td>\n",
              "      <td>144</td>\n",
              "      <td>3</td>\n",
              "      <td>0</td>\n",
              "      <td>4</td>\n",
              "      <td>0</td>\n",
              "      <td>65535</td>\n",
              "      <td>0</td>\n",
              "      <td>...</td>\n",
              "      <td>0</td>\n",
              "      <td>0</td>\n",
              "      <td>0</td>\n",
              "      <td>0</td>\n",
              "      <td>0</td>\n",
              "      <td>0</td>\n",
              "      <td>0</td>\n",
              "      <td>0</td>\n",
              "      <td>0</td>\n",
              "      <td>0</td>\n",
              "    </tr>\n",
              "    <tr>\n",
              "      <th>4</th>\n",
              "      <td>c7b2e4e4fb2fcc44c953673ff57c3d14bdf5d2008f35e9...</td>\n",
              "      <td>0</td>\n",
              "      <td>23117</td>\n",
              "      <td>144</td>\n",
              "      <td>3</td>\n",
              "      <td>0</td>\n",
              "      <td>4</td>\n",
              "      <td>0</td>\n",
              "      <td>65535</td>\n",
              "      <td>0</td>\n",
              "      <td>...</td>\n",
              "      <td>0</td>\n",
              "      <td>0</td>\n",
              "      <td>0</td>\n",
              "      <td>0</td>\n",
              "      <td>0</td>\n",
              "      <td>0</td>\n",
              "      <td>0</td>\n",
              "      <td>0</td>\n",
              "      <td>0</td>\n",
              "      <td>0</td>\n",
              "    </tr>\n",
              "  </tbody>\n",
              "</table>\n",
              "<p>5 rows × 144 columns</p>\n",
              "</div>"
            ],
            "text/plain": [
              "                                              SHA256  Type  e_magic  e_cblp  \\\n",
              "0  dacbe8cb72dd746539792a50e84965fefef73feaa07b5d...     0    23117     144   \n",
              "1  d3dc7512ce75db33b2c3063fa99245e9ca9fe3b086462f...     0    23117     144   \n",
              "2  b350fac81533f02981dc2176ed17163177d92d9405758e...     0    23117     144   \n",
              "3  dfee618043a47b7b09305df0ca460559d9f567ee246c7b...     0    23117     144   \n",
              "4  c7b2e4e4fb2fcc44c953673ff57c3d14bdf5d2008f35e9...     0    23117     144   \n",
              "\n",
              "   e_cp  e_crlc  e_cparhdr  e_minalloc  e_maxalloc  e_ss  ...  \\\n",
              "0     3       0          4           0       65535     0  ...   \n",
              "1     3       0          4           0       65535     0  ...   \n",
              "2     3       0          4           0       65535     0  ...   \n",
              "3     3       0          4           0       65535     0  ...   \n",
              "4     3       0          4           0       65535     0  ...   \n",
              "\n",
              "   tls_Characteristics  pdata_Misc_VirtualSize  pdata_VirtualAddress  \\\n",
              "0                    0                       0                     0   \n",
              "1                    0                       0                     0   \n",
              "2                    0                       0                     0   \n",
              "3                    0                       0                     0   \n",
              "4                    0                       0                     0   \n",
              "\n",
              "   pdata_SizeOfRawData  pdata_PointerToRawData  pdata_PointerToRelocations  \\\n",
              "0                    0                       0                           0   \n",
              "1                    0                       0                           0   \n",
              "2                    0                       0                           0   \n",
              "3                    0                       0                           0   \n",
              "4                    0                       0                           0   \n",
              "\n",
              "   pdata_PointerToLinenumbers  pdata_NumberOfRelocations  \\\n",
              "0                           0                          0   \n",
              "1                           0                          0   \n",
              "2                           0                          0   \n",
              "3                           0                          0   \n",
              "4                           0                          0   \n",
              "\n",
              "   pdata_NumberOfLinenumbers  pdata_Characteristics  \n",
              "0                          0                      0  \n",
              "1                          0                      0  \n",
              "2                          0                      0  \n",
              "3                          0                      0  \n",
              "4                          0                      0  \n",
              "\n",
              "[5 rows x 144 columns]"
            ]
          },
          "execution_count": 6,
          "metadata": {},
          "output_type": "execute_result"
        }
      ],
      "source": [
        "ds3.head()"
      ]
    },
    {
      "cell_type": "code",
      "execution_count": 16,
      "metadata": {},
      "outputs": [],
      "source": [
        "# Distribution\n"
      ]
    },
    {
      "cell_type": "markdown",
      "metadata": {},
      "source": [
        "# Train"
      ]
    },
    {
      "cell_type": "code",
      "execution_count": 7,
      "metadata": {},
      "outputs": [],
      "source": [
        "dataset = ds3\n",
        "# shuffle the dataset\n",
        "dataset = dataset.sample(frac=1, random_state=42).reset_index(drop=True)"
      ]
    },
    {
      "cell_type": "code",
      "execution_count": 8,
      "metadata": {
        "id": "D9dFGhTAQhp7"
      },
      "outputs": [],
      "source": [
        "y = dataset[\"Type\"]\n",
        "X = dataset.drop(columns=[\"SHA256\", \"Type\"])\n",
        "\n",
        "X_train, X_test, y_train, y_test = train_test_split(X, y, test_size=0.3, random_state=42)"
      ]
    },
    {
      "cell_type": "code",
      "execution_count": 13,
      "metadata": {},
      "outputs": [],
      "source": [
        "from joblib import dump, load"
      ]
    },
    {
      "cell_type": "code",
      "execution_count": 11,
      "metadata": {},
      "outputs": [
        {
          "data": {
            "text/plain": [
              "['rf_classifier.joblib']"
            ]
          },
          "execution_count": 11,
          "metadata": {},
          "output_type": "execute_result"
        }
      ],
      "source": [
        "# Train the model\n",
        "rf_classifier = RandomForestClassifier(n_estimators=100, random_state=42)\n",
        "rf_classifier.fit(X_train, y_train)\n",
        "# Save the model\n",
        "dump(rf_classifier, 'rf_classifier.joblib')\n",
        "\n"
      ]
    },
    {
      "cell_type": "code",
      "execution_count": 14,
      "metadata": {},
      "outputs": [],
      "source": [
        "rf_classifier = load('rf_classifier.joblib')"
      ]
    },
    {
      "cell_type": "code",
      "execution_count": 15,
      "metadata": {},
      "outputs": [
        {
          "name": "stdout",
          "output_type": "stream",
          "text": [
            "\n",
            "Threshold: 0.8\n",
            "Test Accuracy: 0.9823451607337972\n",
            "False Positive Rate: 0.015766653527788728\n",
            "True Positive Rate: 0.9820226232157285\n"
          ]
        }
      ],
      "source": [
        "# Get predicted probabilities for the positive class (class 1)\n",
        "y_pred_proba = rf_classifier.predict_proba(X_test)[:, 1]\n",
        "threshold = 0.8\n",
        "y_pred = (y_pred_proba >= threshold).astype(int)\n",
        "# Calculate accuracy\n",
        "test_accuracy = accuracy_score(y_test, y_pred)\n",
        "print(f\"\\nThreshold: {threshold}\")\n",
        "print(\"Test Accuracy:\", test_accuracy)\n",
        "\n",
        "# Confusion matrix\n",
        "conf_matrix = confusion_matrix(y_test, y_pred)\n",
        "TN, FP, FN, TP = conf_matrix.ravel()\n",
        "FPR = FP / (FP + TN)\n",
        "TPR = TP / (TP + FN)\n",
        "\n",
        "print(\"False Positive Rate:\", FPR)\n",
        "print(\"True Positive Rate:\", TPR)"
      ]
    },
    {
      "cell_type": "code",
      "execution_count": 16,
      "metadata": {
        "id": "jqmppAdAfw4r"
      },
      "outputs": [
        {
          "name": "stdout",
          "output_type": "stream",
          "text": [
            "\n",
            "Threshold: 0.9\n",
            "Test Accuracy: 0.9861981712576916\n",
            "False Positive Rate: 0.05084745762711865\n",
            "True Positive Rate: 0.9925262590896848\n"
          ]
        }
      ],
      "source": [
        "dt_classifier = DecisionTreeClassifier(random_state=42)\n",
        "X_train, X_test, y_train, y_test = train_test_split(X, y, test_size=0.3, random_state=42)\n",
        "dt_classifier.fit(X_train, y_train)\n",
        "dump(dt_classifier, 'dt_classifier.joblib')\n",
        "# Get predicted probabilities for the positive class (class 1)\n",
        "y_pred_proba = dt_classifier.predict_proba(X_test)[:, 1]\n",
        "threshold = 0.9\n",
        "# Convert probabilities to binary predictions using the threshold\n",
        "y_pred = (y_pred_proba >= threshold).astype(int)\n",
        "\n",
        "# Calculate accuracy\n",
        "test_accuracy = accuracy_score(y_test, y_pred)\n",
        "print(f\"\\nThreshold: {threshold}\")\n",
        "print(\"Test Accuracy:\", test_accuracy)\n",
        "\n",
        "# Confusion matrix\n",
        "conf_matrix = confusion_matrix(y_test, y_pred)\n",
        "TN, FP, FN, TP = conf_matrix.ravel()\n",
        "FPR = FP / (FP + TN)\n",
        "TPR = TP / (TP + FN)\n",
        "\n",
        "print(\"False Positive Rate:\", FPR)\n",
        "print(\"True Positive Rate:\", TPR)"
      ]
    },
    {
      "cell_type": "code",
      "execution_count": 17,
      "metadata": {},
      "outputs": [
        {
          "name": "stdout",
          "output_type": "stream",
          "text": [
            "\n",
            "Threshold: 0.9\n",
            "Test Accuracy: 0.9870607855540859\n",
            "False Positive Rate: 0.016160819865983445\n",
            "True Positive Rate: 0.9876110961486668\n"
          ]
        }
      ],
      "source": [
        "gb_classifier = HistGradientBoostingClassifier(random_state=42)\n",
        "gb_classifier.fit(X_train, y_train)\n",
        "dump(gb_classifier, 'gb_classifier.joblib')\n",
        "# Get predicted probabilities for the positive class (class 1)\n",
        "y_pred_proba = gb_classifier.predict_proba(X_test)[:, 1]\n",
        "threshold = 0.9\n",
        "# Convert probabilities to binary predictions using the threshold\n",
        "y_pred = (y_pred_proba >= threshold).astype(int)\n",
        "\n",
        "# Calculate accuracy\n",
        "test_accuracy = accuracy_score(y_test, y_pred)\n",
        "print(f\"\\nThreshold: {threshold}\")\n",
        "print(\"Test Accuracy:\", test_accuracy)\n",
        "\n",
        "# Confusion matrix\n",
        "conf_matrix = confusion_matrix(y_test, y_pred)\n",
        "TN, FP, FN, TP = conf_matrix.ravel()\n",
        "FPR = FP / (FP + TN)\n",
        "TPR = TP / (TP + FN)\n",
        "\n",
        "print(\"False Positive Rate:\", FPR)\n",
        "print(\"True Positive Rate:\", TPR)\n",
        "    "
      ]
    },
    {
      "cell_type": "markdown",
      "metadata": {},
      "source": [
        "# NNs\n"
      ]
    },
    {
      "cell_type": "code",
      "execution_count": 18,
      "metadata": {},
      "outputs": [
        {
          "name": "stderr",
          "output_type": "stream",
          "text": [
            "2024-04-11 03:18:57.421689: I external/local_tsl/tsl/cuda/cudart_stub.cc:32] Could not find cuda drivers on your machine, GPU will not be used.\n",
            "2024-04-11 03:18:57.494845: I external/local_tsl/tsl/cuda/cudart_stub.cc:32] Could not find cuda drivers on your machine, GPU will not be used.\n",
            "2024-04-11 03:18:57.785286: I tensorflow/core/platform/cpu_feature_guard.cc:210] This TensorFlow binary is optimized to use available CPU instructions in performance-critical operations.\n",
            "To enable the following instructions: AVX2 FMA, in other operations, rebuild TensorFlow with the appropriate compiler flags.\n",
            "2024-04-11 03:18:59.354766: W tensorflow/compiler/tf2tensorrt/utils/py_utils.cc:38] TF-TRT Warning: Could not find TensorRT\n"
          ]
        }
      ],
      "source": [
        "import numpy as np\n",
        "import pandas as pd\n",
        "from sklearn.model_selection import train_test_split\n",
        "from sklearn.preprocessing import StandardScaler\n",
        "from sklearn.metrics import accuracy_score\n",
        "from tensorflow.keras.models import Model\n",
        "from tensorflow.keras.layers import Input, Dense, Add, Activation, BatchNormalization, Dropout\n"
      ]
    },
    {
      "cell_type": "code",
      "execution_count": 19,
      "metadata": {},
      "outputs": [
        {
          "name": "stdout",
          "output_type": "stream",
          "text": [
            "Epoch 1/10\n",
            "\u001b[1m1015/1015\u001b[0m \u001b[32m━━━━━━━━━━━━━━━━━━━━\u001b[0m\u001b[37m\u001b[0m \u001b[1m10s\u001b[0m 5ms/step - accuracy: 0.8124 - loss: 0.4908 - val_accuracy: 0.9031 - val_loss: 0.2511\n",
            "Epoch 2/10\n",
            "\u001b[1m1015/1015\u001b[0m \u001b[32m━━━━━━━━━━━━━━━━━━━━\u001b[0m\u001b[37m\u001b[0m \u001b[1m5s\u001b[0m 5ms/step - accuracy: 0.9163 - loss: 0.2140 - val_accuracy: 0.9342 - val_loss: 0.1912\n",
            "Epoch 3/10\n",
            "\u001b[1m1015/1015\u001b[0m \u001b[32m━━━━━━━━━━━━━━━━━━━━\u001b[0m\u001b[37m\u001b[0m \u001b[1m5s\u001b[0m 5ms/step - accuracy: 0.9289 - loss: 0.1854 - val_accuracy: 0.9539 - val_loss: 0.1600\n",
            "Epoch 4/10\n",
            "\u001b[1m1015/1015\u001b[0m \u001b[32m━━━━━━━━━━━━━━━━━━━━\u001b[0m\u001b[37m\u001b[0m \u001b[1m5s\u001b[0m 5ms/step - accuracy: 0.9423 - loss: 0.1626 - val_accuracy: 0.9596 - val_loss: 0.1532\n",
            "Epoch 5/10\n",
            "\u001b[1m1015/1015\u001b[0m \u001b[32m━━━━━━━━━━━━━━━━━━━━\u001b[0m\u001b[37m\u001b[0m \u001b[1m5s\u001b[0m 5ms/step - accuracy: 0.9503 - loss: 0.1457 - val_accuracy: 0.9688 - val_loss: 0.1265\n",
            "Epoch 6/10\n",
            "\u001b[1m1015/1015\u001b[0m \u001b[32m━━━━━━━━━━━━━━━━━━━━\u001b[0m\u001b[37m\u001b[0m \u001b[1m10s\u001b[0m 5ms/step - accuracy: 0.9603 - loss: 0.1186 - val_accuracy: 0.9730 - val_loss: 0.1105\n",
            "Epoch 7/10\n",
            "\u001b[1m1015/1015\u001b[0m \u001b[32m━━━━━━━━━━━━━━━━━━━━\u001b[0m\u001b[37m\u001b[0m \u001b[1m5s\u001b[0m 5ms/step - accuracy: 0.9608 - loss: 0.1189 - val_accuracy: 0.9665 - val_loss: 0.1080\n",
            "Epoch 8/10\n",
            "\u001b[1m1015/1015\u001b[0m \u001b[32m━━━━━━━━━━━━━━━━━━━━\u001b[0m\u001b[37m\u001b[0m \u001b[1m7s\u001b[0m 7ms/step - accuracy: 0.9643 - loss: 0.1122 - val_accuracy: 0.9708 - val_loss: 0.1148\n",
            "Epoch 9/10\n",
            "\u001b[1m1015/1015\u001b[0m \u001b[32m━━━━━━━━━━━━━━━━━━━━\u001b[0m\u001b[37m\u001b[0m \u001b[1m6s\u001b[0m 6ms/step - accuracy: 0.9656 - loss: 0.1047 - val_accuracy: 0.9648 - val_loss: 0.1194\n",
            "Epoch 10/10\n",
            "\u001b[1m1015/1015\u001b[0m \u001b[32m━━━━━━━━━━━━━━━━━━━━\u001b[0m\u001b[37m\u001b[0m \u001b[1m5s\u001b[0m 4ms/step - accuracy: 0.9648 - loss: 0.1057 - val_accuracy: 0.9739 - val_loss: 0.0972\n"
          ]
        },
        {
          "data": {
            "text/plain": [
              "<keras.src.callbacks.history.History at 0x7f2355f7d2a0>"
            ]
          },
          "execution_count": 19,
          "metadata": {},
          "output_type": "execute_result"
        }
      ],
      "source": [
        "\n",
        "# Preprocessing: Standardize the features\n",
        "scaler = StandardScaler()\n",
        "X_train_scaled = scaler.fit_transform(X_train)\n",
        "X_test_scaled = scaler.transform(X_test)\n",
        "\n",
        "# Define the neural network model with residual connections\n",
        "def residual_block(x, units, dropout_rate=0.5):\n",
        "    y = Dense(units)(x)\n",
        "    y = BatchNormalization()(y)\n",
        "    y = Activation('relu')(y)\n",
        "    y = Dropout(dropout_rate)(y)\n",
        "    y = Dense(units)(y)\n",
        "    y = BatchNormalization()(y)\n",
        "    y = Activation('relu')(y)\n",
        "    y = Dropout(dropout_rate)(y)\n",
        "    y = Add()([x, y])  # Residual connection\n",
        "    return y\n",
        "\n",
        "input_layer = Input(shape=(X_train_scaled.shape[1],))\n",
        "x = Dense(64)(input_layer)\n",
        "x = BatchNormalization()(x)\n",
        "x = Activation('relu')(x)\n",
        "x = Dropout(0.5)(x)\n",
        "\n",
        "# Add residual blocks\n",
        "num_blocks = 3  # Adjust the number of residual blocks as needed\n",
        "for _ in range(num_blocks):\n",
        "    x = residual_block(x, units=64, dropout_rate=0.5)\n",
        "\n",
        "# Output layer\n",
        "output_layer = Dense(1, activation='sigmoid')(x)\n",
        "\n",
        "# Create the model\n",
        "model = Model(inputs=input_layer, outputs=output_layer)\n",
        "\n",
        "# Compile the model\n",
        "model.compile(optimizer='adam',\n",
        "              loss='binary_crossentropy',\n",
        "              metrics=['accuracy'])\n",
        "\n",
        "# Train the model, 10 32\n",
        "model.fit(X_train_scaled, y_train, epochs=10, batch_size=32, validation_split=0.2)\n",
        "\n"
      ]
    },
    {
      "cell_type": "code",
      "execution_count": 21,
      "metadata": {},
      "outputs": [
        {
          "data": {
            "text/plain": [
              "['scaler.save']"
            ]
          },
          "execution_count": 21,
          "metadata": {},
          "output_type": "execute_result"
        }
      ],
      "source": [
        "# Save the model architecture and weights\n",
        "model.save(\"keras_model.keras\")\n",
        "\n",
        "# Save the scaler\n",
        "scaler_filename = \"scaler.save\"\n",
        "dump(scaler, scaler_filename)"
      ]
    },
    {
      "cell_type": "code",
      "execution_count": 22,
      "metadata": {},
      "outputs": [
        {
          "name": "stdout",
          "output_type": "stream",
          "text": [
            "\u001b[1m544/544\u001b[0m \u001b[32m━━━━━━━━━━━━━━━━━━━━\u001b[0m\u001b[37m\u001b[0m \u001b[1m1s\u001b[0m 2ms/step\n",
            "\n",
            "Threshold: 0.85\n",
            "Test Accuracy: 0.973488987290816\n",
            "False Positive Rate: 0.07725660228616477\n",
            "True Positive Rate: 0.9821572852141126\n"
          ]
        }
      ],
      "source": [
        "# Evaluate the model on the test set\n",
        "y_pred_proba = model.predict(X_test_scaled)\n",
        "threshold = 0.85\n",
        "# Convert probabilities to binary predictions using the threshold\n",
        "y_pred = (y_pred_proba >= threshold).astype(int)\n",
        "\n",
        "# Calculate accuracy\n",
        "test_accuracy = accuracy_score(y_test, y_pred)\n",
        "print(f\"\\nThreshold: {threshold}\")\n",
        "print(\"Test Accuracy:\", test_accuracy)\n",
        "\n",
        "# Confusion matrix\n",
        "conf_matrix = confusion_matrix(y_test, y_pred)\n",
        "TN, FP, FN, TP = conf_matrix.ravel()\n",
        "FPR = FP / (FP + TN)\n",
        "TPR = TP / (TP + FN)\n",
        "\n",
        "print(\"False Positive Rate:\", FPR)\n",
        "print(\"True Positive Rate:\", TPR)"
      ]
    },
    {
      "cell_type": "code",
      "execution_count": 16,
      "metadata": {},
      "outputs": [
        {
          "name": "stdout",
          "output_type": "stream",
          "text": [
            "\u001b[1m544/544\u001b[0m \u001b[32m━━━━━━━━━━━━━━━━━━━━\u001b[0m\u001b[37m\u001b[0m \u001b[1m1s\u001b[0m 2ms/step\n",
            "rf_pred shape: (17389,)\n",
            "dt_pred shape: (17389,)\n",
            "gb_pred shape: (17389,)\n",
            "nn_pred shape: (17389,)\n"
          ]
        }
      ],
      "source": [
        "# Assuming you have predictions and thresholds for each model\n",
        "rf_pred_proba = rf_classifier.predict_proba(X_test)[:, 1]\n",
        "rf_threshold = 0.8\n",
        "rf_pred = (rf_pred_proba >= rf_threshold).astype(int)\n",
        "\n",
        "dt_pred_proba = dt_classifier.predict_proba(X_test)[:, 1]\n",
        "dt_threshold = 0.9\n",
        "dt_pred = (dt_pred_proba >= dt_threshold).astype(int)\n",
        "\n",
        "gb_pred_proba = gb_classifier.predict_proba(X_test)[:, 1]\n",
        "gb_threshold = 0.9\n",
        "gb_pred = (gb_pred_proba >= gb_threshold).astype(int)\n",
        "\n",
        "nn_pred_proba = model.predict(X_test_scaled)\n",
        "nn_threshold = 0.85\n",
        "nn_pred = (nn_pred_proba >= nn_threshold).astype(int)\n",
        "nn_pred = nn_pred.flatten()\n",
        "\n",
        "print(\"rf_pred shape:\", rf_pred.shape)\n",
        "print(\"dt_pred shape:\", dt_pred.shape)\n",
        "print(\"gb_pred shape:\", gb_pred.shape)\n",
        "print(\"nn_pred shape:\", nn_pred.shape)\n"
      ]
    },
    {
      "cell_type": "code",
      "execution_count": 18,
      "metadata": {},
      "outputs": [
        {
          "name": "stdout",
          "output_type": "stream",
          "text": [
            "Ensemble Accuracy: 0.9849330036229801\n",
            "Ensemble True Positive Rate (TPR): 0.9851198491785618\n",
            "Ensemble False Positive Rate (FPR): 0.016160819865983445\n"
          ]
        }
      ],
      "source": [
        "# Combine predictions into an array\n",
        "combined_preds = np.array([rf_pred, dt_pred, gb_pred, nn_pred])\n",
        "\n",
        "# Perform majority voting\n",
        "majority_vote = np.round(np.mean(combined_preds, axis=0))\n",
        "\n",
        "# Evaluate the majority voting ensemble\n",
        "ensemble_accuracy = accuracy_score(y_test, majority_vote)\n",
        "print(\"Ensemble Accuracy:\", ensemble_accuracy)\n",
        "\n",
        "conf_matrix = confusion_matrix(y_test, majority_vote)\n",
        "\n",
        "# Extract TN, FP, FN, TP from confusion matrix\n",
        "TN, FP, FN, TP = conf_matrix.ravel()\n",
        "\n",
        "# Calculate True Positive Rate (TPR) and False Positive Rate (FPR)\n",
        "TPR = TP / (TP + FN)\n",
        "FPR = FP / (FP + TN)\n",
        "\n",
        "print(\"Ensemble True Positive Rate (TPR):\", TPR)\n",
        "print(\"Ensemble False Positive Rate (FPR):\", FPR)"
      ]
    }
  ],
  "metadata": {
    "colab": {
      "gpuType": "T4",
      "provenance": []
    },
    "kernelspec": {
      "display_name": "Python 3",
      "name": "python3"
    },
    "language_info": {
      "codemirror_mode": {
        "name": "ipython",
        "version": 3
      },
      "file_extension": ".py",
      "mimetype": "text/x-python",
      "name": "python",
      "nbconvert_exporter": "python",
      "pygments_lexer": "ipython3",
      "version": "3.10.12"
    }
  },
  "nbformat": 4,
  "nbformat_minor": 0
}
